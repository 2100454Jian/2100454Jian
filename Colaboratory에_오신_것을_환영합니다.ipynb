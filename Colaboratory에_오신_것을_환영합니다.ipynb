{
  "nbformat": 4,
  "nbformat_minor": 0,
  "metadata": {
    "colab": {
      "name": "Colaboratory에 오신 것을 환영합니다",
      "provenance": [],
      "collapsed_sections": [],
      "toc_visible": true,
      "include_colab_link": true
    },
    "kernelspec": {
      "display_name": "Python 3",
      "name": "python3"
    }
  },
  "cells": [
    {
      "cell_type": "markdown",
      "metadata": {
        "id": "view-in-github",
        "colab_type": "text"
      },
      "source": [
        "<a href=\"https://colab.research.google.com/github/2100454Jian/2100454Jian/blob/jian-Assignment-1/Colaboratory%EC%97%90_%EC%98%A4%EC%8B%A0_%EA%B2%83%EC%9D%84_%ED%99%98%EC%98%81%ED%95%A9%EB%8B%88%EB%8B%A4.ipynb\" target=\"_parent\"><img src=\"https://colab.research.google.com/assets/colab-badge.svg\" alt=\"Open In Colab\"/></a>"
      ]
    },
    {
      "cell_type": "markdown",
      "metadata": {
        "id": "un-7m-WJII7n"
      },
      "source": [
        "# 과제"
      ]
    },
    {
      "cell_type": "markdown",
      "metadata": {
        "id": "ihktIijW_j1f"
      },
      "source": [
        "덧셈  **+** \n",
        "\n",
        "ex) 8+5\n",
        "\n",
        "-> 13\n",
        "\n",
        "\n",
        "뺄셈  **-**\n",
        "\n",
        "ex) 8-5 \n",
        "\n",
        "-> 3\n",
        "\n",
        "곱셈 *\n",
        "\n",
        "ex) 8*5\n",
        "\n",
        "-> 40\n",
        "\n",
        "나눗셈  //\n",
        "\n",
        "ex) 8//5\n",
        "\n",
        "->1\n",
        "\n",
        "나눗셈 /\n",
        "\n",
        "ex) 8/5\n",
        "\n",
        "-> 1.6\n",
        "\n",
        "나머지 %\n",
        "\n",
        "ex) 8%5\n",
        "\n",
        "-> 3"
      ]
    },
    {
      "cell_type": "markdown",
      "metadata": {
        "id": "NIhSLha3GdlV"
      },
      "source": [
        "= : 할당연산자 혹은 대입연산자라고 부른다.\n",
        "\n",
        "== : 동등 비교 연산자이며 값이 동일할 경우에 'True' 값이 나온다.\n",
        "\n",
        ":  세미콜론이라고 읽으며 뒤에 붙여야 그 다음 행에서 들여쓰기가 가능해지며 아직 식이 끝나지 않았다는 뜻이다."
      ]
    }
  ]
}