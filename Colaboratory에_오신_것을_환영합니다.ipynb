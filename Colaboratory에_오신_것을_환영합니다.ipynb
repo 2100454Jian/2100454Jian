{
  "nbformat": 4,
  "nbformat_minor": 0,
  "metadata": {
    "colab": {
      "name": "Colaboratory에 오신 것을 환영합니다",
      "provenance": [],
      "collapsed_sections": [],
      "toc_visible": true,
      "include_colab_link": true
    },
    "kernelspec": {
      "display_name": "Python 3",
      "name": "python3"
    }
  },
  "cells": [
    {
      "cell_type": "markdown",
      "metadata": {
        "id": "view-in-github",
        "colab_type": "text"
      },
      "source": [
        "<a href=\"https://colab.research.google.com/github/2100454Jian/2100454Jian/blob/2100454-assignment-6/Colaboratory%EC%97%90_%EC%98%A4%EC%8B%A0_%EA%B2%83%EC%9D%84_%ED%99%98%EC%98%81%ED%95%A9%EB%8B%88%EB%8B%A4.ipynb\" target=\"_parent\"><img src=\"https://colab.research.google.com/assets/colab-badge.svg\" alt=\"Open In Colab\"/></a>"
      ]
    },
    {
      "cell_type": "markdown",
      "metadata": {
        "id": "C8MKVh0GAn4B"
      },
      "source": [
        "제5장 조건문의 활용 : 도전문제"
      ]
    },
    {
      "cell_type": "markdown",
      "metadata": {
        "id": "Ic4tgtzrA2PL"
      },
      "source": [
        "도전문제1\n",
        "\n",
        "종달새가 6시와 9시 사이 또는 14시와 16시 사이에 노래한다고 하면(그리고 날씨는 항상 화창하여야 한다.) 위 조건식을 어떻게 변경하여야 하는가?"
      ]
    },
    {
      "cell_type": "code",
      "metadata": {
        "id": "sxzy549tBGSH",
        "outputId": "58843173-a85a-4800-80b0-f6ef6a73f1bd",
        "colab": {
          "base_uri": "https://localhost:8080/"
        }
      },
      "source": [
        "import random\n",
        "time = random.randint(1,24)\n",
        "print(\"좋은 아침입니다. 지금 시각은 \" +str(time) +\"시 입니다.\")\n",
        "sunny = random.choice([True,False])\n",
        "if sunny :\n",
        "  print(\"현재 날씨가 화창합니다.\")\n",
        "else:\n",
        "  print(\"현재 날씨가 화창하지 않습니다.\")\n",
        "#종달새가 노래를 할 것인지를 판단해보자.\n",
        "if time >= 6 and time <9 and True:\n",
        "  print(\"종달새가 노래를 한다.\")\n",
        "\n",
        "elif time >= 14 and time <16 and True:\n",
        "  print(\"종달새가 노래를 한다.\")\n",
        "else:\n",
        "  print(\"종달새가 노래를 하지 않는다.\")\n"
      ],
      "execution_count": 2,
      "outputs": [
        {
          "output_type": "stream",
          "name": "stdout",
          "text": [
            "좋은 아침입니다. 지금 시각은 10시 입니다.\n",
            "현재 날씨가 화창합니다.\n",
            "종달새가 노래를 하지 않는다.\n"
          ]
        }
      ]
    },
    {
      "cell_type": "markdown",
      "metadata": {
        "id": "pO7R0sXHFpxZ"
      },
      "source": [
        "도전문제2\n",
        "\n",
        "아이디 검사가 종료되면 바로 패스워드 검사를 해보자. 즉 다음과 같은 출력을 가지는 프로그램을 작성한다."
      ]
    },
    {
      "cell_type": "code",
      "metadata": {
        "id": "Z-IZON9dFtRL",
        "outputId": "7c261340-4ee7-449d-b82f-91b66acc1c6f",
        "colab": {
          "base_uri": "https://localhost:8080/"
        }
      },
      "source": [
        "id = \"ilovepython\"\n",
        "pw = \"123456\"\n",
        "s = input(\"아이디를 입력하시오: \")\n",
        "if s == id:\n",
        "  p = input(\"패스워드를 입력하시오: \")\n",
        "  if p == pw:\n",
        "    print(\"환영합니다.\")\n",
        "  else:\n",
        "      print(\"비밀번호가 잘못되었습니다.\")\n",
        "\n",
        "else:\n",
        "  print(\"아이디를 찾을 수 없습니다.\")"
      ],
      "execution_count": 4,
      "outputs": [
        {
          "output_type": "stream",
          "name": "stdout",
          "text": [
            "아이디를 입력하시오: ilovepython\n",
            "패스워드를 입력하시오: 123456\n",
            "환영합니다.\n"
          ]
        }
      ]
    },
    {
      "cell_type": "markdown",
      "metadata": {
        "id": "Kzjom2qjNqw_"
      },
      "source": [
        "도전문제3\n",
        "\n",
        "골대를 더 여러 영역으로 나누어서 게임을 다시 작성해보자. 즉 왼쪽 상단, 왼쪽 하단, 중앙, 오른쪽 상단, 오른쪽 하단 중에서 하나를 선택하도록 하라."
      ]
    },
    {
      "cell_type": "code",
      "metadata": {
        "id": "4W9DbOOxPHXg",
        "outputId": "038b18f6-6d24-4dce-9264-204921854906",
        "colab": {
          "base_uri": "https://localhost:8080/"
        }
      },
      "source": [
        "import random\n",
        "\n",
        "options = [\"왼쪽 상단\",\"왼쪽 하단\",\"중앙\",\"오른쪽 상단\",\"오른쪽 하단\"]\n",
        "computer_choice = random.choice(options)\n",
        "user_choice = input(\"어디를 수비하시곘어요?(왼쪽 상단, 왼쪽 하단, 중앙, 오른쪽 상단, 오른쪽 하단)\")\n",
        "if computer_choice == user_choice:\n",
        "  print(\"수비에 성곧하셨습니다.\")\n",
        "else:\n",
        "  print(\"페널티 킥이 성공하였습니다.\")"
      ],
      "execution_count": 5,
      "outputs": [
        {
          "output_type": "stream",
          "name": "stdout",
          "text": [
            "어디를 수비하시곘어요?(왼쪽 상단, 왼쪽 하단, 중앙, 오른쪽 상단, 오른쪽 하단)오른쪽 상단\n",
            "페널티 킥이 성공하였습니다.\n"
          ]
        }
      ]
    }
  ]
}