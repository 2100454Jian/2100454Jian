{
  "nbformat": 4,
  "nbformat_minor": 0,
  "metadata": {
    "colab": {
      "name": "Colaboratory에 오신 것을 환영합니다",
      "provenance": [],
      "collapsed_sections": [],
      "toc_visible": true,
      "include_colab_link": true
    },
    "kernelspec": {
      "display_name": "Python 3",
      "name": "python3"
    }
  },
  "cells": [
    {
      "cell_type": "markdown",
      "metadata": {
        "id": "view-in-github",
        "colab_type": "text"
      },
      "source": [
        "<a href=\"https://colab.research.google.com/github/2100454Jian/2100454Jian/blob/main/Colaboratory%EC%97%90_%EC%98%A4%EC%8B%A0_%EA%B2%83%EC%9D%84_%ED%99%98%EC%98%81%ED%95%A9%EB%8B%88%EB%8B%A4.ipynb\" target=\"_parent\"><img src=\"https://colab.research.google.com/assets/colab-badge.svg\" alt=\"Open In Colab\"/></a>"
      ]
    },
    {
      "cell_type": "markdown",
      "metadata": {
        "id": "gw3r_nyYuRDr"
      },
      "source": [
        "제1장 파이썬의 소개 : 도전문제"
      ]
    },
    {
      "cell_type": "markdown",
      "metadata": {
        "id": "XgDqocLLuXkL"
      },
      "source": [
        "(1) \"안녕하세요?\"를 화면에 출력해보자"
      ]
    },
    {
      "cell_type": "code",
      "metadata": {
        "id": "EmlyU1oBu6oz",
        "outputId": "36763afa-eda5-4a3f-9652-770d54c3f78e",
        "colab": {
          "base_uri": "https://localhost:8080/"
        }
      },
      "source": [
        "print(\"안녕하세요?\")"
      ],
      "execution_count": 2,
      "outputs": [
        {
          "output_type": "stream",
          "name": "stdout",
          "text": [
            "안녕하세요?\n"
          ]
        }
      ]
    },
    {
      "cell_type": "markdown",
      "metadata": {
        "id": "RcEym6plvCID"
      },
      "source": [
        "(2) \"programming에 입문하신 것을 축하드립니다.\"를 출력해보자."
      ]
    },
    {
      "cell_type": "code",
      "metadata": {
        "id": "3fPclXdhvgw3",
        "outputId": "71bff863-c8d3-4925-ed36-6b55c5e43d50",
        "colab": {
          "base_uri": "https://localhost:8080/"
        }
      },
      "source": [
        "print(\"programming에 입문하신 것을 축하드립니다.\")"
      ],
      "execution_count": 3,
      "outputs": [
        {
          "output_type": "stream",
          "name": "stdout",
          "text": [
            "programming에 입문하신 것을 축하드립니다.\n"
          ]
        }
      ]
    }
  ]
}