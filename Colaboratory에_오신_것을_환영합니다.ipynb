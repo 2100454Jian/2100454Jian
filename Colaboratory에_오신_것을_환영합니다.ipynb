{
  "nbformat": 4,
  "nbformat_minor": 0,
  "metadata": {
    "colab": {
      "name": "Colaboratory에 오신 것을 환영합니다",
      "provenance": [],
      "collapsed_sections": [],
      "toc_visible": true,
      "include_colab_link": true
    },
    "kernelspec": {
      "display_name": "Python 3",
      "name": "python3"
    }
  },
  "cells": [
    {
      "cell_type": "markdown",
      "metadata": {
        "id": "view-in-github",
        "colab_type": "text"
      },
      "source": [
        "<a href=\"https://colab.research.google.com/github/2100454Jian/2100454Jian/blob/2100454-assignment-9/Colaboratory%EC%97%90_%EC%98%A4%EC%8B%A0_%EA%B2%83%EC%9D%84_%ED%99%98%EC%98%81%ED%95%A9%EB%8B%88%EB%8B%A4.ipynb\" target=\"_parent\"><img src=\"https://colab.research.google.com/assets/colab-badge.svg\" alt=\"Open In Colab\"/></a>"
      ]
    },
    {
      "cell_type": "markdown",
      "metadata": {
        "id": "QFBArAURFW9e"
      },
      "source": [
        "# 6강 연습문제"
      ]
    },
    {
      "cell_type": "markdown",
      "metadata": {
        "id": "mlYzg2dhEIA9"
      },
      "source": [
        "5."
      ]
    },
    {
      "cell_type": "code",
      "metadata": {
        "id": "NAA3_snWEJN-",
        "outputId": "33883d4b-b379-4508-93ff-8bbac740b072",
        "colab": {
          "base_uri": "https://localhost:8080/"
        }
      },
      "source": [
        "from random import randint\n",
        "\n",
        "for i in range(3) :\n",
        "  d1 = randint(1, 6)\n",
        "  d2 = randint(1, 6)\n",
        "  print(\"첫번째 주사위=\", d1, \"두번째 주사위=\", d2)"
      ],
      "execution_count": 1,
      "outputs": [
        {
          "output_type": "stream",
          "name": "stdout",
          "text": [
            "첫번째 주사위= 2 두번째 주사위= 5\n",
            "첫번째 주사위= 5 두번째 주사위= 2\n",
            "첫번째 주사위= 4 두번째 주사위= 1\n"
          ]
        }
      ]
    }
  ]
}