{
  "nbformat": 4,
  "nbformat_minor": 0,
  "metadata": {
    "colab": {
      "name": "Colaboratory에 오신 것을 환영합니다",
      "provenance": [],
      "collapsed_sections": [],
      "toc_visible": true,
      "include_colab_link": true
    },
    "kernelspec": {
      "display_name": "Python 3",
      "name": "python3"
    }
  },
  "cells": [
    {
      "cell_type": "markdown",
      "metadata": {
        "id": "view-in-github",
        "colab_type": "text"
      },
      "source": [
        "<a href=\"https://colab.research.google.com/github/2100454Jian/2100454Jian/blob/2100454Jian-patch-1/Colaboratory%EC%97%90_%EC%98%A4%EC%8B%A0_%EA%B2%83%EC%9D%84_%ED%99%98%EC%98%81%ED%95%A9%EB%8B%88%EB%8B%A4.ipynb\" target=\"_parent\"><img src=\"https://colab.research.google.com/assets/colab-badge.svg\" alt=\"Open In Colab\"/></a>"
      ]
    },
    {
      "cell_type": "markdown",
      "metadata": {
        "id": "Pxljz-_NSrVM"
      },
      "source": [
        "제1장 파이썬의 소개 : 도전문제"
      ]
    },
    {
      "cell_type": "markdown",
      "metadata": {
        "id": "bTmLPU9gS43H"
      },
      "source": [
        "(1) \"안녕하세요?\"를 화면에 출력해보자.\n",
        "\n",
        "(2) \"programming에 입문하신 것을 축하드립니다.\"를 출력해보자."
      ]
    },
    {
      "cell_type": "code",
      "metadata": {
        "id": "7G_ZayM4TJCl",
        "outputId": "4a21974b-7dc6-431f-83af-66529c9a7154",
        "colab": {
          "base_uri": "https://localhost:8080/"
        }
      },
      "source": [
        "print(\"안녕하세요?\")"
      ],
      "execution_count": 1,
      "outputs": [
        {
          "output_type": "stream",
          "name": "stdout",
          "text": [
            "안녕하세요?\n"
          ]
        }
      ]
    },
    {
      "cell_type": "code",
      "metadata": {
        "id": "Oft_mie9TUhd",
        "outputId": "f4a8c4b0-47f3-46df-ecce-1a2ee4e9f48c",
        "colab": {
          "base_uri": "https://localhost:8080/"
        }
      },
      "source": [
        "print(\"programming에 입문하신 것을 축하드립니다.\")"
      ],
      "execution_count": 2,
      "outputs": [
        {
          "output_type": "stream",
          "name": "stdout",
          "text": [
            "programming에 입문하신 것을 축하드립니다.\n"
          ]
        }
      ]
    },
    {
      "cell_type": "markdown",
      "metadata": {
        "id": "S9yHDlusUy2H"
      },
      "source": [
        "제2장 변수의 소개 : 도전문제"
      ]
    },
    {
      "cell_type": "code",
      "metadata": {
        "id": "dCrAD5twU4Ls",
        "outputId": "2242714e-ed84-4d30-db83-b0ff6121fa52",
        "colab": {
          "base_uri": "https://localhost:8080/"
        }
      },
      "source": [
        "x = 7\n",
        "y = 6\n",
        "print(x + y)"
      ],
      "execution_count": 3,
      "outputs": [
        {
          "output_type": "stream",
          "name": "stdout",
          "text": [
            "13\n"
          ]
        }
      ]
    },
    {
      "cell_type": "code",
      "metadata": {
        "id": "W6e0SeMmVHnt",
        "outputId": "196c9c40-1885-4a5a-ec13-8cf5e88a99d0",
        "colab": {
          "base_uri": "https://localhost:8080/"
        }
      },
      "source": [
        "x = '7'\n",
        "y = '6'\n",
        "print(x + y)"
      ],
      "execution_count": 4,
      "outputs": [
        {
          "output_type": "stream",
          "name": "stdout",
          "text": [
            "76\n"
          ]
        }
      ]
    },
    {
      "cell_type": "markdown",
      "metadata": {
        "id": "biuYyM67VqD2"
      },
      "source": [
        "사용자로부터 2개의 정수를 받아서 사칙연산을 한 후에 결과를 출력하는 프로그램을 작성해보자."
      ]
    },
    {
      "cell_type": "code",
      "metadata": {
        "id": "KOoMEJHfV0Ra",
        "outputId": "6c1f686c-867c-42f8-ac67-da4f88253868",
        "colab": {
          "base_uri": "https://localhost:8080/"
        }
      },
      "source": [
        "x = int(input(\"첫 번쨰 정수를 입력하시오: \"))\n",
        "y = int(input(\"두 번째 정수를 입력하시오: \"))\n",
        "\n",
        "print(x, \"+\", y, \"=\", x+y)  # 더하기\n",
        "print (x, \"-\",y, \"=\", x-y)  # 빼기\n",
        "print (x, \"*\", y, \"=\", x*y) # 곱하기\n",
        "print(x, \"/\", y, \"=\", x/y)  # 나누기"
      ],
      "execution_count": 5,
      "outputs": [
        {
          "output_type": "stream",
          "name": "stdout",
          "text": [
            "첫 번쨰 정수를 입력하시오: 12\n",
            "두 번째 정수를 입력하시오: 30\n",
            "12 + 30 = 42\n",
            "12 - 30 = -18\n",
            "12 * 30 = 360\n",
            "12 / 30 = 0.4\n"
          ]
        }
      ]
    }
  ]
}