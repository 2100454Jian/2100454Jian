{
  "nbformat": 4,
  "nbformat_minor": 0,
  "metadata": {
    "colab": {
      "name": "Colaboratory에 오신 것을 환영합니다",
      "provenance": [],
      "collapsed_sections": [],
      "toc_visible": true,
      "include_colab_link": true
    },
    "kernelspec": {
      "display_name": "Python 3",
      "name": "python3"
    }
  },
  "cells": [
    {
      "cell_type": "markdown",
      "metadata": {
        "id": "view-in-github",
        "colab_type": "text"
      },
      "source": [
        "<a href=\"https://colab.research.google.com/github/2100454Jian/2100454Jian/blob/2100454Jian-patch-3/Colaboratory%EC%97%90_%EC%98%A4%EC%8B%A0_%EA%B2%83%EC%9D%84_%ED%99%98%EC%98%81%ED%95%A9%EB%8B%88%EB%8B%A4.ipynb\" target=\"_parent\"><img src=\"https://colab.research.google.com/assets/colab-badge.svg\" alt=\"Open In Colab\"/></a>"
      ]
    },
    {
      "cell_type": "code",
      "metadata": {
        "colab": {
          "base_uri": "https://localhost:8080/"
        },
        "id": "cChM4Ud2C474",
        "outputId": "39a43a60-2692-46dc-cd79-e2a0a9282b17"
      },
      "source": [
        "age = 20\n",
        "if age < 20:\n",
        "  print(\"20살 미만\")\n",
        "else:\n",
        "  print(\"20살 이상\")"
      ],
      "execution_count": 1,
      "outputs": [
        {
          "output_type": "stream",
          "name": "stdout",
          "text": [
            "20살 이상\n"
          ]
        }
      ]
    },
    {
      "cell_type": "code",
      "metadata": {
        "colab": {
          "base_uri": "https://localhost:8080/"
        },
        "id": "wg7_DMlKD9fz",
        "outputId": "1cee1eb1-6879-4f22-8db7-bc952b4f9abe"
      },
      "source": [
        "age = 20\n",
        "if age <= 30 and age <= 50:\n",
        "  print(\"20살 미만\")\n",
        "else:\n",
        "  print(\"20살 이상\")"
      ],
      "execution_count": 2,
      "outputs": [
        {
          "output_type": "stream",
          "name": "stdout",
          "text": [
            "20살 미만\n"
          ]
        }
      ]
    },
    {
      "cell_type": "code",
      "metadata": {
        "colab": {
          "base_uri": "https://localhost:8080/"
        },
        "id": "_Dbyp6VCEbmc",
        "outputId": "aa18fe7c-2856-403f-d3ab-ff5d61c5fd63"
      },
      "source": [
        "temp = int(input(\"현재 온도를 입력하세요:\"))\n",
        "\n",
        "if temp >= 25:\n",
        "  print(\"반바지 입어요.\")\n",
        "else:\n",
        "  print(\"긴바지 입어요.\")"
      ],
      "execution_count": 5,
      "outputs": [
        {
          "output_type": "stream",
          "name": "stdout",
          "text": [
            "현재 온도를 입력하세요:9\n",
            "긴바지 입어요.\n"
          ]
        }
      ]
    },
    {
      "cell_type": "code",
      "metadata": {
        "colab": {
          "base_uri": "https://localhost:8080/"
        },
        "id": "nXtjMuI7FGD2",
        "outputId": "b8750690-8132-4481-b131-04b08287d717"
      },
      "source": [
        "score = int(input(\"점수를 입력하시요.:\"))\n",
        "if score <= 90:\n",
        "  print(\"A에요.\")\n",
        "elif score <= 80:\n",
        "  print(\"B에요.\")\n",
        "elif score <= 70:\n",
        "  print(\"C에요.\")\n",
        "elif score <= 60:\n",
        "  print(\"D에요.\")\n",
        "else:\n",
        "  print(\"F에요. 내년에 또봐요.\")"
      ],
      "execution_count": 6,
      "outputs": [
        {
          "output_type": "stream",
          "name": "stdout",
          "text": [
            "점수를 입력하시요.:90\n",
            "A에요.\n"
          ]
        }
      ]
    },
    {
      "cell_type": "code",
      "metadata": {
        "colab": {
          "base_uri": "https://localhost:8080/"
        },
        "id": "-wIlxagCGDys",
        "outputId": "a39aa208-b20f-4468-ecdc-c52bc3e274cf"
      },
      "source": [
        "import random\n",
        "x = random.randint(1, 100)\n",
        "y = random.randint(1, 100)\n",
        "\n",
        "answer = int(input(str(x)+\"-\"+str(y)+\"=\"))\n",
        "if answer ==x - y:\n",
        "  print(\"맞았습니다.\")\n",
        "else:\n",
        "  print(\"틀렸습니다.\")"
      ],
      "execution_count": 7,
      "outputs": [
        {
          "output_type": "stream",
          "name": "stdout",
          "text": [
            "49-52=-3\n",
            "맞았습니다.\n"
          ]
        }
      ]
    },
    {
      "cell_type": "code",
      "metadata": {
        "colab": {
          "base_uri": "https://localhost:8080/"
        },
        "id": "98d-6VW4Ipbq",
        "outputId": "99153480-d6a1-4216-cced-25774d0a2ea0"
      },
      "source": [
        "n = int(input(\"정수를 입력하시오:\"))\n",
        "if n%2 == 0 and n%3 ==0:\n",
        "  print(\"2와 3으로 나누어 떨어져요.\")\n",
        "else:\n",
        "  print(\"안돼요\")"
      ],
      "execution_count": 9,
      "outputs": [
        {
          "output_type": "stream",
          "name": "stdout",
          "text": [
            "정수를 입력하시오:26\n",
            "안돼요\n"
          ]
        }
      ]
    },
    {
      "cell_type": "code",
      "metadata": {
        "colab": {
          "base_uri": "https://localhost:8080/"
        },
        "id": "ImiXLkP0Lx0t",
        "outputId": "704d9e7c-af23-4e91-e452-6352b11bb152"
      },
      "source": [
        "for i in range(2, 101):\n",
        "  if i%2==0:\n",
        "    print(i,end = \"\")"
      ],
      "execution_count": 10,
      "outputs": [
        {
          "output_type": "stream",
          "name": "stdout",
          "text": [
            "2468101214161820222426283032343638404244464850525456586062646668707274767880828486889092949698100"
          ]
        }
      ]
    }
  ]
}