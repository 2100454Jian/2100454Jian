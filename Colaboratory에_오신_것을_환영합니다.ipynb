{
  "nbformat": 4,
  "nbformat_minor": 0,
  "metadata": {
    "colab": {
      "name": "Colaboratory에 오신 것을 환영합니다",
      "provenance": [],
      "collapsed_sections": [],
      "toc_visible": true,
      "include_colab_link": true
    },
    "kernelspec": {
      "display_name": "Python 3",
      "name": "python3"
    }
  },
  "cells": [
    {
      "cell_type": "markdown",
      "metadata": {
        "id": "view-in-github",
        "colab_type": "text"
      },
      "source": [
        "<a href=\"https://colab.research.google.com/github/2100454Jian/2100454Jian/blob/2100454-assignmaent-5/Colaboratory%EC%97%90_%EC%98%A4%EC%8B%A0_%EA%B2%83%EC%9D%84_%ED%99%98%EC%98%81%ED%95%A9%EB%8B%88%EB%8B%A4.ipynb\" target=\"_parent\"><img src=\"https://colab.research.google.com/assets/colab-badge.svg\" alt=\"Open In Colab\"/></a>"
      ]
    },
    {
      "cell_type": "markdown",
      "metadata": {
        "id": "V_P0AjrL3Tue"
      },
      "source": [
        "제4장 자료의 종류 : 도전문제"
      ]
    },
    {
      "cell_type": "markdown",
      "metadata": {
        "id": "imualfPE30VQ"
      },
      "source": [
        "도전문제1\n",
        "\n",
        "사용자에게 다른 정보도 물어보고 친근하게 다시 답변해보자. "
      ]
    },
    {
      "cell_type": "code",
      "metadata": {
        "id": "C7I95_GL4BZe",
        "outputId": "a1b38991-45dd-4d30-c4a3-51fa9cc836dc",
        "colab": {
          "base_uri": "https://localhost:8080/"
        }
      },
      "source": [
        "print(\"안녕하세요?\")\n",
        "name = input(\"이름이 어떻게 되시나요? \")\n",
        "print(\"이름의 길이는 다음과 같군요:\", end = \"\")\n",
        "print(len(name))\n",
        "age = int(input(\"나이가 어떻게 되나요? \"))\n",
        "print(\"내년이면 \", str(age+1),\"이 되시는군요.\")\n",
        "hobby = input(\"취미가 무엇인가요?\")\n",
        "print(\"네 저도 \"+hobby+\" 좋아합니다.\")"
      ],
      "execution_count": 1,
      "outputs": [
        {
          "output_type": "stream",
          "name": "stdout",
          "text": [
            "안녕하세요?\n",
            "이름이 어떻게 되시나요? 양지안\n",
            "이름의 길이는 다음과 같군요:3\n",
            "나이가 어떻게 되나요? 20\n",
            "내년이면  21 이 되시는군요.\n",
            "취미가 무엇인가요?음악감상\n",
            "네 저도 음악감상 좋아합니다.\n"
          ]
        }
      ]
    },
    {
      "cell_type": "markdown",
      "metadata": {
        "id": "p6YWf6UU6EBI"
      },
      "source": [
        "도전문제2\n",
        "\n",
        "사용자로부터 현재 날짜를 받아서 \"월/일/연도\" 순으로 출력해보자."
      ]
    },
    {
      "cell_type": "code",
      "metadata": {
        "id": "oLtN1K5O6RMU",
        "outputId": "9b30073f-3881-40e2-ce20-83e25b53e72a",
        "colab": {
          "base_uri": "https://localhost:8080/"
        }
      },
      "source": [
        "year = input(\"오늘의 연도를 입력하시오: \")\n",
        "month = input(\"오늘의 월을 입력하시오: \")\n",
        "date = input(\"오늘의 일을 입력하시오: \")\n",
        "\n",
        "print(month+\"/\", date+\"/\", year)"
      ],
      "execution_count": 3,
      "outputs": [
        {
          "output_type": "stream",
          "name": "stdout",
          "text": [
            "오늘의 연도를 입력하시오: 2021\n",
            "오늘의 월을 입력하시오: 11\n",
            "오늘의 일을 입력하시오: 28\n",
            "11/ 28/ 2021\n"
          ]
        }
      ]
    },
    {
      "cell_type": "markdown",
      "metadata": {
        "id": "Lo_Ci7aH689o"
      },
      "source": [
        "도전문제3\n",
        "\n",
        "str()을 사용하지 않고 print(\"올해는 \", thisYear, \"입니다.\")와 같이 쉼표를 사용하여 변수와 문자열을 동시 출력할 수 있는가? 위의 프로그램을 이런 식으로 변경해보자. 어떤 방법이 편리한가?"
      ]
    },
    {
      "cell_type": "code",
      "metadata": {
        "id": "jFrvEpiQ7bme",
        "outputId": "b0e77bf3-f352-41e2-8532-dd0e9693ff83",
        "colab": {
          "base_uri": "https://localhost:8080/"
        }
      },
      "source": [
        "import time\n",
        "\n",
        "now = time.time()\n",
        "thisYear = int(1970 + now//(365*24*3600))\n",
        "\n",
        "print(\"올해는 \",thisYear,\"입니다.\")\n",
        "age = int(input(\"몇 살이신지요? \"))\n",
        "print(\"2025년에는 \",(age+2025-thisYear),\"살 이시군요.\")"
      ],
      "execution_count": 4,
      "outputs": [
        {
          "output_type": "stream",
          "name": "stdout",
          "text": [
            "올해는  2021 입니다.\n",
            "몇 살이신지요? 20\n",
            "2025년에는  24 살 이시군요.\n"
          ]
        }
      ]
    }
  ]
}