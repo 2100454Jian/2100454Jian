{
  "cells": [
    {
      "cell_type": "markdown",
      "metadata": {
        "id": "view-in-github",
        "colab_type": "text"
      },
      "source": [
        "<a href=\"https://colab.research.google.com/github/2100454Jian/2100454Jian/blob/2100454-assignment-13/Colaboratory%EC%97%90_%EC%98%A4%EC%8B%A0_%EA%B2%83%EC%9D%84_%ED%99%98%EC%98%81%ED%95%A9%EB%8B%88%EB%8B%A4.ipynb\" target=\"_parent\"><img src=\"https://colab.research.google.com/assets/colab-badge.svg\" alt=\"Open In Colab\"/></a>"
      ]
    },
    {
      "cell_type": "markdown",
      "source": [
        "#9장 연습문제"
      ],
      "metadata": {
        "id": "2w_Imhu1mMyY"
      }
    },
    {
      "cell_type": "markdown",
      "source": [
        "3. 딕셔너리를 사용하여서 친구들의 이름과 전화번호를 저장해보자. 사용자로부터 친구들의 이름과 전화번호를 입력받고 딕셔너리에 저장한다. 이름을 입력하지 않고 엔터기를 치면 검색모드가 되고, 검색 모드에서는 친구들의 이름으로 전화번호를 검색할 수 있도록 한다. 공백 딕셔너리를 생성하고 사용자가 입력하는 대로 딕셔너리에 추가되게 한다."
      ],
      "metadata": {
        "id": "B8-0HyNOnMeC"
      }
    },
    {
      "cell_type": "code",
      "source": [
        "contacts = { }\n",
        " \n",
        "while True :\n",
        "        name = input(\"(입력모드)이름을 입력하시오: \")\n",
        "        if not name:\n",
        "                break;\n",
        "        tel = input(\"전화번호를 입력하시오: \")\n",
        "        contacts[name] = tel\n",
        "\n",
        "while True:\n",
        "        name = input(\"(검색모드)이름을 입력하시오: \")\n",
        "        if not name:\n",
        "                break;\n",
        "        if name in contacts :\n",
        "                print(name, \"의 전화번호는\", contacts[name], \"입니다.\")\n",
        "\n"
      ],
      "metadata": {
        "id": "BdxQlMOcniW8",
        "outputId": "b26e9b84-e4f0-4fb4-a593-20fbead8a913",
        "colab": {
          "base_uri": "https://localhost:8080/"
        }
      },
      "execution_count": 10,
      "outputs": [
        {
          "name": "stdout",
          "output_type": "stream",
          "text": [
            "(입력모드)이름을 입력하시오: 양지안\n",
            "전화번호를 입력하시오: 01084544132\n",
            "(입력모드)이름을 입력하시오: 강영현\n",
            "전화번호를 입력하시오: 01009071219\n",
            "(입력모드)이름을 입력하시오: \n",
            "(검색모드)이름을 입력하시오: 강영현\n",
            "강영현 의 전화번호는 01009071219 입니다.\n",
            "(검색모드)이름을 입력하시오: \n"
          ]
        }
      ]
    },
    {
      "cell_type": "markdown",
      "source": [
        "4. 인터넷 도메인의 약자와 해당되는 국가를 딕셔너리에 저장해보자. 예를 들어서 \"kr\"은 대한민국으로 저장되어야 한다. 직셔너리를 순회하면서 모든 키와 값을 출력하는 프로그램을 작성해보자."
      ],
      "metadata": {
        "id": "b3ypzax1uziR"
      }
    },
    {
      "cell_type": "code",
      "source": [
        "domains = { \"kr\": \"대한민국\", \"us\": \"미국\", \"jp\": \"일본\", \"de\":\"독일\", \"sk\": \"슬로바키아\", \"hu\": \"헝가리\", \"no\": \"노르웨이\" }\n",
        "\n",
        "for k, v in domains.items():\n",
        "  print(k, \":\", v)"
      ],
      "metadata": {
        "id": "Li0CZzGqvN3c",
        "outputId": "21f4fdf7-ac9a-407b-cdc2-e3a6746400d6",
        "colab": {
          "base_uri": "https://localhost:8080/"
        }
      },
      "execution_count": 11,
      "outputs": [
        {
          "output_type": "stream",
          "name": "stdout",
          "text": [
            "kr : 대한민국\n",
            "us : 미국\n",
            "jp : 일본\n",
            "de : 독일\n",
            "sk : 슬로바키아\n",
            "hu : 헝가리\n",
            "no : 노르웨이\n"
          ]
        }
      ]
    }
  ],
  "metadata": {
    "colab": {
      "collapsed_sections": [],
      "name": "Colaboratory에 오신 것을 환영합니다",
      "toc_visible": true,
      "provenance": [],
      "include_colab_link": true
    },
    "kernelspec": {
      "display_name": "Python 3",
      "name": "python3"
    }
  },
  "nbformat": 4,
  "nbformat_minor": 0
}