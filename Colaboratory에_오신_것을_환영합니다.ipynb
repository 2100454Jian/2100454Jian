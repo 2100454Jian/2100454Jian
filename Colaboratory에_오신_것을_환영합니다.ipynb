{
  "cells": [
    {
      "cell_type": "markdown",
      "metadata": {
        "id": "view-in-github",
        "colab_type": "text"
      },
      "source": [
        "<a href=\"https://colab.research.google.com/github/2100454Jian/2100454Jian/blob/2100454-assignment-14/Colaboratory%EC%97%90_%EC%98%A4%EC%8B%A0_%EA%B2%83%EC%9D%84_%ED%99%98%EC%98%81%ED%95%A9%EB%8B%88%EB%8B%A4.ipynb\" target=\"_parent\"><img src=\"https://colab.research.google.com/assets/colab-badge.svg\" alt=\"Open In Colab\"/></a>"
      ]
    },
    {
      "cell_type": "markdown",
      "source": [
        "# 9장 도전문제"
      ],
      "metadata": {
        "id": "Q7jAFHO34GdZ"
      }
    },
    {
      "cell_type": "code",
      "source": [
        "import random\n",
        "\n",
        "question = [\"56 / 8\", \"8 * 9\", \"50 - 25\", \"1 + 6\", \"81 / 9\", \"22 + 10\", \"8 / 4\", \"9 * 7\", \"17 - 4\", \"3 + 5\"]\n",
        "dailyQuestion = random.choice(question)\n",
        "print(\"###########################\")\n",
        "print(\"# 오늘의 산수 문제 #\")\n",
        "print(\"###########################\")\n",
        "print(\"\")\n",
        "print(dailyQuestion)"
      ],
      "metadata": {
        "id": "Q3np5Ca74T3i",
        "outputId": "afd24767-41c0-437d-ef1a-add16cfc8f0f",
        "colab": {
          "base_uri": "https://localhost:8080/"
        }
      },
      "execution_count": 1,
      "outputs": [
        {
          "output_type": "stream",
          "name": "stdout",
          "text": [
            "###########################\n",
            "# 오늘의 산수 문제 #\n",
            "###########################\n",
            "\n",
            "56 / 8\n"
          ]
        }
      ]
    },
    {
      "cell_type": "code",
      "source": [
        "english_dict = dict()\n",
        "\n",
        "english_dict['하나'] = 'one'\n",
        "english_dict['둘'] = 'two'\n",
        "english_dict['셋'] = 'three'\n",
        "\n",
        "word = input(\"단어를 입력하시오: \")\n",
        "print(english_dict[word])"
      ],
      "metadata": {
        "id": "81Qke_Ym8X16",
        "outputId": "93fafd11-e1c5-41a4-e47d-6f04eea1b1b3",
        "colab": {
          "base_uri": "https://localhost:8080/"
        }
      },
      "execution_count": 3,
      "outputs": [
        {
          "output_type": "stream",
          "name": "stdout",
          "text": [
            "단어를 입력하시오: 둘\n",
            "two\n"
          ]
        }
      ]
    }
  ],
  "metadata": {
    "colab": {
      "collapsed_sections": [],
      "name": "Colaboratory에 오신 것을 환영합니다",
      "toc_visible": true,
      "provenance": [],
      "include_colab_link": true
    },
    "kernelspec": {
      "display_name": "Python 3",
      "name": "python3"
    }
  },
  "nbformat": 4,
  "nbformat_minor": 0
}