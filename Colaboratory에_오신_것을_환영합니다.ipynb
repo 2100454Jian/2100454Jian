{
  "nbformat": 4,
  "nbformat_minor": 0,
  "metadata": {
    "colab": {
      "name": "Colaboratory에 오신 것을 환영합니다",
      "provenance": [],
      "collapsed_sections": [],
      "toc_visible": true,
      "include_colab_link": true
    },
    "kernelspec": {
      "display_name": "Python 3",
      "name": "python3"
    }
  },
  "cells": [
    {
      "cell_type": "markdown",
      "metadata": {
        "id": "view-in-github",
        "colab_type": "text"
      },
      "source": [
        "<a href=\"https://colab.research.google.com/github/2100454Jian/2100454Jian/blob/2100454Jian-patch-1/Colaboratory%EC%97%90_%EC%98%A4%EC%8B%A0_%EA%B2%83%EC%9D%84_%ED%99%98%EC%98%81%ED%95%A9%EB%8B%88%EB%8B%A4.ipynb\" target=\"_parent\"><img src=\"https://colab.research.google.com/assets/colab-badge.svg\" alt=\"Open In Colab\"/></a>"
      ]
    },
    {
      "cell_type": "code",
      "metadata": {
        "colab": {
          "base_uri": "https://localhost:8080/"
        },
        "id": "sE8P1h-eXjEj",
        "outputId": "7759ffa5-df8e-46e1-d555-fbd1495b6a7d"
      },
      "source": [
        "score = int(input(\"성적을 입력하시오.:\"))\n",
        "if score >=60:\n",
        "  print(\"합격입니다.\")\n",
        "else:\n",
        "  print(\"불합격입니다.\")"
      ],
      "execution_count": 4,
      "outputs": [
        {
          "output_type": "stream",
          "name": "stdout",
          "text": [
            "성적을 입력하시오.:50\n",
            "불합격입니다.\n"
          ]
        }
      ]
    },
    {
      "cell_type": "code",
      "metadata": {
        "colab": {
          "base_uri": "https://localhost:8080/"
        },
        "id": "ldS71UMrYLab",
        "outputId": "e782d6cd-60c9-4f91-8a84-b79eb292df3f"
      },
      "source": [
        "score = int(input(\"성적을 입력하시오.:\"))\n",
        "if score >=90:\n",
        "  print(\"A학점입니다.\")\n",
        "elif score >=80:\n",
        "  print(\"B학점입니다.\")\n",
        "else:\n",
        "  print(\"C학점입니다.\")"
      ],
      "execution_count": 6,
      "outputs": [
        {
          "output_type": "stream",
          "name": "stdout",
          "text": [
            "성적을 입력하시오.:90\n",
            "A학점입니다.\n"
          ]
        }
      ]
    }
  ]
}