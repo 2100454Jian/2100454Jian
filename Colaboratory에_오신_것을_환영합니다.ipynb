{
  "nbformat": 4,
  "nbformat_minor": 0,
  "metadata": {
    "colab": {
      "name": "Colaboratory에 오신 것을 환영합니다",
      "provenance": [],
      "collapsed_sections": [],
      "toc_visible": true,
      "include_colab_link": true
    },
    "kernelspec": {
      "display_name": "Python 3",
      "name": "python3"
    }
  },
  "cells": [
    {
      "cell_type": "markdown",
      "metadata": {
        "id": "view-in-github",
        "colab_type": "text"
      },
      "source": [
        "<a href=\"https://colab.research.google.com/github/2100454Jian/2100454Jian/blob/2100454-project-4/Colaboratory%EC%97%90_%EC%98%A4%EC%8B%A0_%EA%B2%83%EC%9D%84_%ED%99%98%EC%98%81%ED%95%A9%EB%8B%88%EB%8B%A4.ipynb\" target=\"_parent\"><img src=\"https://colab.research.google.com/assets/colab-badge.svg\" alt=\"Open In Colab\"/></a>"
      ]
    },
    {
      "cell_type": "markdown",
      "metadata": {
        "id": "7waeXe-4yh2P"
      },
      "source": [
        "제3장 계산해봅시다. : 도전문제"
      ]
    },
    {
      "cell_type": "markdown",
      "metadata": {
        "id": "XrrQPUjeyyAv"
      },
      "source": [
        "도전문제1\n",
        "\n",
        "총 재료 비용이 100,000원이었다고 하자. 이익을 계산해보자. 적자인지, 흑자인지를 표시하라."
      ]
    },
    {
      "cell_type": "code",
      "metadata": {
        "id": "QkWOQFWmzC2a",
        "outputId": "c352ef6b-2e86-488d-c73f-27622f194be4",
        "colab": {
          "base_uri": "https://localhost:8080/"
        }
      },
      "source": [
        "total = 100000   # 총 재료비용\n",
        "americano_price = 2000\n",
        "cafelatte_price = 3000\n",
        "capucino_price = 3500\n",
        "\n",
        "americanos = int(input(\"아메리카노 판매 개수: \"))\n",
        "cafelattes = int(input(\"카페라테 판매 개수: \"))\n",
        "capucinos = int(input(\"카푸치노 판매 개수: \"))\n",
        "\n",
        "sales = americanos*americano_price\n",
        "sales = sales + cafelattes * cafelatte_price\n",
        "sales = sales + capucinos * capucino_price\n",
        "print(\"총 매출은\", sales, \"입니다.\")\n",
        "\n",
        "if (total < sales) : print(\"흑자입니다.\")\n",
        "else : print(\"적자입니다.\")"
      ],
      "execution_count": 3,
      "outputs": [
        {
          "output_type": "stream",
          "name": "stdout",
          "text": [
            "아메리카노 판매 개수: 150\n",
            "카페라테 판매 개수: 84\n",
            "카푸치노 판매 개수: 90\n",
            "총 매출은 867000 입니다.\n",
            "흑자입니다.\n"
          ]
        }
      ]
    },
    {
      "cell_type": "markdown",
      "metadata": {
        "id": "VVLTIcMl5Erw"
      },
      "source": [
        "도전문제2\n",
        "\n",
        "반대로 섭씨온도를 화씨온도로 변환하는 프로그램도 작성해보자."
      ]
    },
    {
      "cell_type": "code",
      "metadata": {
        "id": "XEtYNMpS5Nfp",
        "outputId": "481c115d-f9d4-4eab-e660-45bce915281e",
        "colab": {
          "base_uri": "https://localhost:8080/"
        }
      },
      "source": [
        "ctemp = int(input(\"섭씨온도: \"))\n",
        "ftemp = 9/5*ctemp+32\n",
        "print(\"화씨온도: \",ftemp)"
      ],
      "execution_count": 4,
      "outputs": [
        {
          "output_type": "stream",
          "name": "stdout",
          "text": [
            "섭씨온도: 12\n",
            "화씨온도:  53.6\n"
          ]
        }
      ]
    },
    {
      "cell_type": "markdown",
      "metadata": {
        "id": "nIMEmAHT6AFH"
      },
      "source": [
        "도전문제3\n",
        "\n",
        "자판기가 만약 50원짜리 동전과 10원짜리 동전도 거슬러 줄 수 있다면 위의 코드를 어떠게 수정하여야 하는가?"
      ]
    },
    {
      "cell_type": "code",
      "metadata": {
        "id": "vTpQqjKB6SFy",
        "outputId": "95dbdd36-d09e-4efe-b67c-c0b2e7f65b6d",
        "colab": {
          "base_uri": "https://localhost:8080/"
        }
      },
      "source": [
        "money = int(input(\"투입한 돈: \"))\n",
        "price = int(input(\"물건 값: \"))\n",
        "\n",
        "change = money - price      \n",
        "print(\"거스름돈: \",change)  \n",
        "coin500s = change // 500    # 500으로 나누어서 몫이 500원짜리의 개수\n",
        "change = change % 500       # 500으로 나눈 나머지를 계산한다.\n",
        "coin100s = change // 100    # 100으로 나누어서 몫이 100원짜리의 개수\n",
        "change = change % 100       # 100으로 나눈 나머지를 계산한다.\n",
        "coin50s = change // 50      # 50으로 나누어서 몫이 50원짜리의 개수\n",
        "change = change % 50        # 50으로 나눈 나머지를 계산한다.\n",
        "coin10s = change // 10      # 10으로 나누어서 몫이 10원짜리의 개수\n",
        "change = change % 10        # 10으로 나눈 나머지를 계산한다.\n",
        "print(\"500원 동전의 개수: \", coin500s)\n",
        "print(\"100원 동전의 개수: \", coin100s)\n",
        "print(\"50원 동전의 개수: \", coin50s)\n",
        "print(\"10원 동전의 개수: \", coin10s)"
      ],
      "execution_count": 5,
      "outputs": [
        {
          "output_type": "stream",
          "name": "stdout",
          "text": [
            "투입한 돈: 1500\n",
            "물건 값: 1000\n",
            "거스름돈:  500\n",
            "500원 동전의 개수:  1\n",
            "100원 동전의 개수:  0\n",
            "50원 동전의 개수:  0\n",
            "10원 동전의 개수:  0\n"
          ]
        }
      ]
    }
  ]
}