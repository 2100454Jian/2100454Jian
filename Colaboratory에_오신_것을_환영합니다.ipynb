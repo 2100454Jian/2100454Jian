{
  "nbformat": 4,
  "nbformat_minor": 0,
  "metadata": {
    "colab": {
      "name": "Colaboratory에 오신 것을 환영합니다",
      "provenance": [],
      "collapsed_sections": [],
      "toc_visible": true,
      "include_colab_link": true
    },
    "kernelspec": {
      "display_name": "Python 3",
      "name": "python3"
    }
  },
  "cells": [
    {
      "cell_type": "markdown",
      "metadata": {
        "id": "view-in-github",
        "colab_type": "text"
      },
      "source": [
        "<a href=\"https://colab.research.google.com/github/2100454Jian/2100454Jian/blob/2100454-assignment-12/Colaboratory%EC%97%90_%EC%98%A4%EC%8B%A0_%EA%B2%83%EC%9D%84_%ED%99%98%EC%98%81%ED%95%A9%EB%8B%88%EB%8B%A4.ipynb\" target=\"_parent\"><img src=\"https://colab.research.google.com/assets/colab-badge.svg\" alt=\"Open In Colab\"/></a>"
      ]
    },
    {
      "cell_type": "markdown",
      "metadata": {
        "id": "o1PPZxU3d2wW"
      },
      "source": [
        "# 9장 연습문제"
      ]
    },
    {
      "cell_type": "markdown",
      "metadata": {
        "id": "x5Xcg1_kd9eu"
      },
      "source": [
        "1. 사용자로부터 5개의 숫자를 얽어서 리스트에 저정하고 숫자들의 평균을 계산하여 출력하는 프로그램을 작성하라. 리스트를 생성하고, 사용자에게서 받은 정수를 append()로 리스트에 추가한다. 리스트의 크기는 len(alist)을 사용. len()은 내장 함수로 사용"
      ]
    },
    {
      "cell_type": "code",
      "metadata": {
        "id": "DCq1gxnseao2",
        "outputId": "3976fb45-526e-4a22-afe5-0dfa8f843509",
        "colab": {
          "base_uri": "https://localhost:8080/"
        }
      },
      "source": [
        "alist = []\n",
        "sum = 0 \n",
        "\n",
        "for i in range(5):\n",
        "  i = int(input(\"정수를 입력하시오: \"))\n",
        "  alist.append(i)\n",
        "\n",
        "for i in alist:\n",
        "  sum += i\n",
        "avg = sum/len(alist)\n",
        "print(\"평균=\", avg)"
      ],
      "execution_count": 1,
      "outputs": [
        {
          "output_type": "stream",
          "name": "stdout",
          "text": [
            "정수를 입력하시오: 23\n",
            "정수를 입력하시오: 29\n",
            "정수를 입력하시오: 19\n",
            "정수를 입력하시오: 12\n",
            "정수를 입력하시오: 0\n",
            "평균= 16.6\n"
          ]
        }
      ]
    },
    {
      "cell_type": "markdown",
      "metadata": {
        "id": "MrfGGa8bfW--"
      },
      "source": [
        "2. 주사위를 던져서 나오는 값들의 빈도를 계산하는 프로그램을 작성하라. 즉 1, 2, 3, 4, 5, 6의 값이 각각 몇 번이나 나오는지를 계산한다."
      ]
    },
    {
      "cell_type": "code",
      "metadata": {
        "id": "oW4AFDvXfsf-",
        "outputId": "2af13393-d8da-4f73-c871-f80ba2c89f68",
        "colab": {
          "base_uri": "https://localhost:8080/"
        }
      },
      "source": [
        "import random\n",
        "counters = [0, 0, 0, 0, 0, 0]\n",
        "\n",
        "for i in range(1000):\n",
        "  value = random.randint(0, 5)\n",
        "  counters[value] = counters[value] + 1\n",
        "\n",
        "for i in range(6) :\n",
        "  print(\"주사위가 \", i+1, \"인 경우는 \", counters[i], \"번\")"
      ],
      "execution_count": 4,
      "outputs": [
        {
          "output_type": "stream",
          "name": "stdout",
          "text": [
            "주사위가  1 인 경우는  169 번\n",
            "주사위가  2 인 경우는  152 번\n",
            "주사위가  3 인 경우는  176 번\n",
            "주사위가  4 인 경우는  164 번\n",
            "주사위가  5 인 경우는  185 번\n",
            "주사위가  6 인 경우는  154 번\n"
          ]
        }
      ]
    }
  ]
}