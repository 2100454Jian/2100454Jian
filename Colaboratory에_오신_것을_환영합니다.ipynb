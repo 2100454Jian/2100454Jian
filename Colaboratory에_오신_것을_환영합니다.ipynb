{
  "nbformat": 4,
  "nbformat_minor": 0,
  "metadata": {
    "colab": {
      "name": "Colaboratory에 오신 것을 환영합니다",
      "provenance": [],
      "collapsed_sections": [],
      "toc_visible": true,
      "include_colab_link": true
    },
    "kernelspec": {
      "display_name": "Python 3",
      "name": "python3"
    }
  },
  "cells": [
    {
      "cell_type": "markdown",
      "metadata": {
        "id": "view-in-github",
        "colab_type": "text"
      },
      "source": [
        "<a href=\"https://colab.research.google.com/github/2100454Jian/2100454Jian/blob/2100454-assignment-8/Colaboratory%EC%97%90_%EC%98%A4%EC%8B%A0_%EA%B2%83%EC%9D%84_%ED%99%98%EC%98%81%ED%95%A9%EB%8B%88%EB%8B%A4.ipynb\" target=\"_parent\"><img src=\"https://colab.research.google.com/assets/colab-badge.svg\" alt=\"Open In Colab\"/></a>"
      ]
    },
    {
      "cell_type": "markdown",
      "metadata": {
        "id": "UZfaZImAqTwr"
      },
      "source": [
        "3."
      ]
    },
    {
      "cell_type": "code",
      "metadata": {
        "id": "vShm27yoqVOC",
        "outputId": "c03773ff-653f-4acd-bdf0-c03dadef0ca4",
        "colab": {
          "base_uri": "https://localhost:8080/"
        }
      },
      "source": [
        "ans = 0\n",
        "while ans != 3*9:\n",
        "  ans = int(input(\"3*9는\"))\n",
        "print(\"맞았습니다.\")"
      ],
      "execution_count": 3,
      "outputs": [
        {
          "output_type": "stream",
          "name": "stdout",
          "text": [
            "3*9는27\n",
            "맞았습니다.\n"
          ]
        }
      ]
    },
    {
      "cell_type": "markdown",
      "metadata": {
        "id": "IGsCtObfq--C"
      },
      "source": [
        "4."
      ]
    },
    {
      "cell_type": "code",
      "metadata": {
        "id": "jQ2BtAOarAOj",
        "outputId": "f44a79e3-6423-4887-c878-f87045e13985",
        "colab": {
          "base_uri": "https://localhost:8080/"
        }
      },
      "source": [
        "sum = 0\n",
        "while True:\n",
        "  x = int(input(\"정수를 입력하시오: \"))\n",
        "  if x == 0:\n",
        "    break;\n",
        "  sum = sum + x\n",
        "\n",
        "print(\"합은\", sum, \"입니다.\")"
      ],
      "execution_count": 4,
      "outputs": [
        {
          "output_type": "stream",
          "name": "stdout",
          "text": [
            "정수를 입력하시오: 24\n",
            "정수를 입력하시오: 64\n",
            "정수를 입력하시오: 17\n",
            "정수를 입력하시오: 58\n",
            "정수를 입력하시오: 89\n",
            "정수를 입력하시오: 0\n",
            "합은 252 입니다.\n"
          ]
        }
      ]
    }
  ]
}