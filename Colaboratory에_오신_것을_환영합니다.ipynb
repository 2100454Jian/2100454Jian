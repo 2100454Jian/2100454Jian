{
  "nbformat": 4,
  "nbformat_minor": 0,
  "metadata": {
    "colab": {
      "name": "Colaboratory에 오신 것을 환영합니다",
      "provenance": [],
      "collapsed_sections": [],
      "toc_visible": true,
      "include_colab_link": true
    },
    "kernelspec": {
      "display_name": "Python 3",
      "name": "python3"
    }
  },
  "cells": [
    {
      "cell_type": "markdown",
      "metadata": {
        "id": "view-in-github",
        "colab_type": "text"
      },
      "source": [
        "<a href=\"https://colab.research.google.com/github/2100454Jian/2100454Jian/blob/2100454-assignment-7/Colaboratory%EC%97%90_%EC%98%A4%EC%8B%A0_%EA%B2%83%EC%9D%84_%ED%99%98%EC%98%81%ED%95%A9%EB%8B%88%EB%8B%A4.ipynb\" target=\"_parent\"><img src=\"https://colab.research.google.com/assets/colab-badge.svg\" alt=\"Open In Colab\"/></a>"
      ]
    },
    {
      "cell_type": "markdown",
      "metadata": {
        "id": "l6EPy5mF5ahh"
      },
      "source": [
        "6장 연습문제"
      ]
    },
    {
      "cell_type": "markdown",
      "metadata": {
        "id": "0SjHb95O5ee8"
      },
      "source": [
        "1."
      ]
    },
    {
      "cell_type": "code",
      "metadata": {
        "colab": {
          "base_uri": "https://localhost:8080/"
        },
        "id": "1MdztOm85gex",
        "outputId": "fb4b36e2-0ea6-45c1-addf-3bc48688b082"
      },
      "source": [
        "for i in range(2, 101):\n",
        "  if i%2==0 :\n",
        "    print(i,end = \" \")\n"
      ],
      "execution_count": 10,
      "outputs": [
        {
          "output_type": "stream",
          "name": "stdout",
          "text": [
            "2 4 6 8 10 12 14 16 18 20 22 24 26 28 30 32 34 36 38 40 42 44 46 48 50 52 54 56 58 60 62 64 66 68 70 72 74 76 78 80 82 84 86 88 90 92 94 96 98 100 "
          ]
        }
      ]
    },
    {
      "cell_type": "markdown",
      "metadata": {
        "id": "5CAP4EnuA9ZA"
      },
      "source": [
        "2."
      ]
    },
    {
      "cell_type": "code",
      "metadata": {
        "colab": {
          "base_uri": "https://localhost:8080/"
        },
        "id": "l34Fj3MZA-h_",
        "outputId": "fc9423b3-9840-43fb-d0cd-19072dc6e09c"
      },
      "source": [
        "year = 0\n",
        "balance =1000\n",
        "\n",
        "while balance <= 2000 :\n",
        "  year + 1\n",
        "  interest = balance * 0.07\n",
        "  balance = balance + interest\n",
        "print(year, \"년이 걸립니다.\")"
      ],
      "execution_count": 11,
      "outputs": [
        {
          "output_type": "stream",
          "name": "stdout",
          "text": [
            "0 년이 걸립니다.\n"
          ]
        }
      ]
    }
  ]
}